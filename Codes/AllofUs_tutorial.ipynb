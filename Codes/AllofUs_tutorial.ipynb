{
 "cells": [
  {
   "cell_type": "markdown",
   "id": "2e144292",
   "metadata": {},
   "source": [
    "## All of Us Alzheimer's disease data exploration\n",
    "\n",
    "[The All of Us Research Program](https://www.researchallofus.org/) is a biomedical data platform and all data needs to be analyzed on the platform's secure cloud environment.\n",
    "\n",
    "This tutorial is  for three tasks on the All of Us dataset:\n",
    "1. analyze Alzheimer's disease (AD) patients' genomic data\n",
    "2. analyze Alzheimer's disease (AD) patients' diagnosis code\n",
    "3. analyze patients with AD-related diseases aged from 65 to 75\n",
    "\n"
   ]
  },
  {
   "cell_type": "markdown",
   "id": "0bcc749f",
   "metadata": {},
   "source": [
    "Corresponding codes and files are under each task's folder as follows:\n",
    "```\n",
    ".\n",
    "└── allofus/\n",
    "    ├── genomics/\n",
    "    │   ├── code/\n",
    "    │   │   ├── combine_all_samples.py\t\n",
    "    │   │   ├── create_run.sh\t\t\n",
    "    │   │   ├── sample_snp1.py\n",
    "    │   │   ├── copy_vcf.py\t\t\n",
    "    │   │   ├── gwas_select.py\t\t\n",
    "    │   │   └── table_cohort.py\t\n",
    "    │   └── gwas_reference.csv\n",
    "    ├── diagnosis_code/\n",
    "    │   ├── code/\n",
    "    │   │   ├── download.py\t\t\t\n",
    "    │   │   ├── get_patient_code_matrix.py\n",
    "    │   │   ├── get_cohort_table.py\t\t\n",
    "    │   │   ├── run_get_patient_matrix.py\n",
    "    │   │   └── get_observation_time.py\t\n",
    "    │   └── disease_names.csv\n",
    "    └── age65_75/\n",
    "        ├── code/\n",
    "        │   ├── get_apoe_ids.py\t\t\t\n",
    "        │   ├── run_get_geno_score.py\n",
    "        │   ├── get_dict.py\t\t\t\n",
    "        │   ├── run_get_patient_matrix.py\n",
    "        │   ├── get_geno_score.py\t\t\n",
    "        │   ├── run_logit.py\n",
    "        │   ├── get_patient_code_matrix.py\t\n",
    "        │   └── run_run_get_geno_score.py\t\n",
    "        └── disease_names.csv\n",
    "```"
   ]
  },
  {
   "cell_type": "markdown",
   "id": "d91dbad7",
   "metadata": {},
   "source": [
    "### Task 1: Analysis on Alzheimer's disease patients' genomic data\n",
    "\n",
    "In this genomic task, we first created a cohort with conditions \"Alzheimer's disease, unspecified\", \"Alzheimer's disease\", \"Alzheimer's disease with late onset\", and \"Other Alzheimer's disease\". Then, we extracted patients' whole genome sequencing data (VCF files). Details about creating an AllofUs cohort could be found [here](https://support.researchallofus.org/hc/en-us/articles/360039585591-Selecting-participants-using-the-Cohort-Builder-tool) and details about selecting genomic data can be found [here](https://support.researchallofus.org/hc/en-us/articles/4558187754772-Selecting-Genomic-data-using-the-Genomic-Extraction-tool)."
   ]
  },
  {
   "cell_type": "markdown",
   "id": "e9b6ca44",
   "metadata": {},
   "source": [
    "#### Step 1 -- Data extraction\n",
    "The genomic data extraction process will take approximately 1 hour. After finishing the extraction, we can copy those VCF files to the current analysis environment under certain directories using the script `genomics/code/copy_vcf.py`."
   ]
  },
  {
   "cell_type": "markdown",
   "id": "8f16b6b5",
   "metadata": {},
   "source": [
    "#### Step 2 -- Select GWAS reference\n",
    "We can download a GWAS reference file from the [GWAS website](https://www.ebi.ac.uk/gwas/api/search/downloads/full) and select some SNPs by p-values using the command\n",
    "\n",
    "`python genomics/code/gwas_select.py downloaded_gwas_file_path output_filtered_gwas_file_path`\n",
    "\n",
    "The output filtered GWAS reference will be used for further analysis. "
   ]
  },
  {
   "cell_type": "markdown",
   "id": "b3e91993",
   "metadata": {},
   "source": [
    "#### Step 3 -- Generate two summarized matrices\n",
    "For the created cohort, we intended to generate two matrices: \n",
    "1. a sample by SNP matrix where each value represents the number of reference alleles; \n",
    "2. a binary sample by gene matrix where 1 indicating a gene is mutated in that patient. We identify a gene as mutated if at least one corresponding SNP for that gene is mutated.\n",
    "\n",
    "To achieve this, we run the script `genomics/code/create_run.sh` which can generate scripts to run parallelly based on the `genomics/code/sample_snp1.py` script. Please change the filtered GWAS file path accordingly in the `sample_snp1.py` script. The output files will be saved under `genomics/sample_snp` and `genomics/sample_gene` folder respectively.\n",
    "\n",
    "This step will take approximately 1 hour. After finishing the `genomics/code/create_run.sh`, we can combine all outputs to one single matrix using the script `genomics/code/combine_all_samples.py`. The sample by SNP matrix will be saved as `sample_snp_all.csv` and the sample by gene matrix will be saved as `sample_gene_all.csv`.\n"
   ]
  },
  {
   "cell_type": "markdown",
   "id": "fc945e32",
   "metadata": {},
   "source": [
    "#### Step 4 -- Generate frequency tables for the cohort\n",
    "We calculated the frequency of mutation for each gene using the script `genomics/code/table_cohort.py`. This code will return 3 tables:\n",
    "1. the count and proportion of each mutated gene in the whole cohort\n",
    "2. the count and proportin of each mutated gene in the male cohort\n",
    "3. the count and proportion of each mutated gene in the female cohort\n"
   ]
  },
  {
   "cell_type": "markdown",
   "id": "6d230ff7",
   "metadata": {},
   "source": [
    "### Task 2:  Analysis of Alzheimer's disease patients'  diagnosis code\n",
    "For the Alzheimer's disease patients cohort created in Task 1, we further explored diagnosis codes, i.e. diagnosis of other diseases, in task 2. We focused on AD related diseases from published literature (disease names are stored in `diagnosis_code/disease_name.csv`). Following guidance from the AllofUs website, we downloaded all patient information to the `diagnosis_code/patient_disease` folder. An example code for downloading data is in `diagnosis_code/code/download.py`."
   ]
  },
  {
   "cell_type": "markdown",
   "id": "04f6dcb4",
   "metadata": {},
   "source": [
    "#### Step 1 -- Identify observation time for each patient\n",
    "We identified the date which is 5 years prior to the patient's first diagnosis with Alzheimer's disease as its observation time. We focus on investigating patients' disease diagnosis after the observation time. \n",
    "\n",
    "This step can be done by the script `diagnosis_code/code/get_observation_time.py`. The script will return two files: one is the observation time for each patient, and the other is the demographic information for each patient."
   ]
  },
  {
   "cell_type": "markdown",
   "id": "b3c8bc38",
   "metadata": {},
   "source": [
    "#### Step 2 -- Generate patient by diagnosis code matrix\n",
    "We generated a binary patient by disease matrix where 1 indicating a patient was diagnosed for the disease after its observation time. This can be done by the `diagnosis_code/code/run_get_patient_matrix.py` which runs the `get_patient_matrix.py` script for each disease. The outputs will be saved under the `diagnosis_code/patient_code` folder."
   ]
  },
  {
   "cell_type": "markdown",
   "id": "39cff0c8",
   "metadata": {},
   "source": [
    "#### Step 3 -- Generate frequency tables for the cohort\n",
    "We calculated the frequency of each disease in Alzheimer's disease patients cohort using the script `diagnosis_code/code/get_table_cohort.py`. This code will return 3 tables:\n",
    "\n",
    "1. the count and proportion of each disease in the whole cohort\n",
    "2. the count and proportion of each disease in the male cohort\n",
    "3. the count and proportion of each disease in the female cohort"
   ]
  },
  {
   "cell_type": "markdown",
   "id": "ccdd6a0f",
   "metadata": {},
   "source": [
    "### Task 3: Analysis of patients aged from 65 to 75 with AD-related diseases\n",
    "We want to compare the AD cohort with general cohorts. To achieve this goal, we first created a general cohort for patients aged from 65 to 75 and extracted their demographic and disease EHR information to the `age65_75/EHR_data` folder. \n"
   ]
  },
  {
   "cell_type": "markdown",
   "id": "1c732b7a",
   "metadata": {},
   "source": [
    "#### Step 1: Explore the diagnosis code\n",
    "Similar to task 2, we can generate 3 disease frequency tables by setting 2012-01-01 (5 years prior to now) as the observation time for all patients. The corresponding code is available at `age65_75/code/get_patient_code_matrix.py` and `age65_75/code/run_get_patient_matrix.py`. The output results will be stored under the `age65_75/patient_code` folder"
   ]
  },
  {
   "cell_type": "markdown",
   "id": "ddfc8471",
   "metadata": {},
   "source": [
    "#### Step 2: Explore genomic data\n",
    "Similar to task 1, we extracted the whole genomic sequencing data for the age 65-75 cohort. One difference is that we only focus on two SNPs related to the gene ApoE $\\it{\\epsilon}4$ variant: rs429358 and rs7412. \n",
    "\n",
    "This step can be implemented by the script `age65_75/code/run_run_get_geno_score.py`. The output results will be stored under the `age65_75/sample_geno` and the `age65_75/sample_score` folders. \n",
    "\n",
    "We then explored the ApoE results and saved whether a patient is ApoE mutated or not by `age65_75/code/get_apoe_ids.py`. The output is a `age65_75/apoe_ids.csv` file."
   ]
  },
  {
   "cell_type": "markdown",
   "id": "4d655150",
   "metadata": {},
   "source": [
    "#### Step 3: Fit Logistic regression between disease and ApoE status\n",
    "To further explored the relationship between AD related diseases status and the ApoE gene, we fit logistic regressions  combining demographic information by the equation \n",
    "\\begin{align*}\n",
    "is\\_disease \\sim is\\_ApoE+is\\_Female+is\\_White+is\\_HispanicorLatino+age\n",
    "\\end{align*}\n",
    "\n",
    "This step can be implemented by the script `age65_75/code/run_logit.py` and output model results will be stored in the `age65_75/logit_result.csv`."
   ]
  },
  {
   "cell_type": "code",
   "execution_count": null,
   "id": "1ee801f5",
   "metadata": {},
   "outputs": [],
   "source": []
  }
 ],
 "metadata": {
  "kernelspec": {
   "display_name": "Python 3 (ipykernel)",
   "language": "python",
   "name": "python3"
  },
  "language_info": {
   "codemirror_mode": {
    "name": "ipython",
    "version": 3
   },
   "file_extension": ".py",
   "mimetype": "text/x-python",
   "name": "python",
   "nbconvert_exporter": "python",
   "pygments_lexer": "ipython3",
   "version": "3.11.1"
  }
 },
 "nbformat": 4,
 "nbformat_minor": 5
}

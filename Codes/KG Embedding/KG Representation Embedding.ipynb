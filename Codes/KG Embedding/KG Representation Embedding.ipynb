{
 "cells": [
  {
   "cell_type": "markdown",
   "id": "c622fe85",
   "metadata": {},
   "source": [
    "# Embedding representations of entities and relations in iBKH"
   ]
  },
  {
   "cell_type": "markdown",
   "id": "9f0676a4",
   "metadata": {},
   "source": [
    "We directly invoke the command line toolkit provided by DGL-KE to learn the embedding of entities and relations in iBKH. Here, we use four different models to learn the entity and edge representations of iBKH, namely TransE, TransR, DistMult and ComplEx. To use other KGE model or AWS instances please refer to DGL-KE’s <a href=\"https://aws-dglke.readthedocs.io/en/latest/index.html\" target=\"_blank\">Document</a>."
   ]
  },
  {
   "cell_type": "markdown",
   "id": "20f4da54",
   "metadata": {},
   "source": [
    "### TransE"
   ]
  },
  {
   "cell_type": "code",
   "execution_count": null,
   "id": "68415b34",
   "metadata": {},
   "outputs": [],
   "source": [
    "DGLBACKEND=pytorch dglke_train --dataset iBKH --data_path ./dataset --data_files ad_whole_train.tsv --format raw_udd_hrt --model_name TransE_l2 --batch_size 1024 --neg_sample_size 256 --hidden_dim 200 --gamma 12.0 --lr 0.1 --max_step 10000 --log_interval 100 --batch_size_eval 1000 -adv --regularization_coef 1.00E-07 --num_thread 1 --num_proc 8 --neg_sample_size_eval 1000"
   ]
  },
  {
   "cell_type": "markdown",
   "id": "f1bdc93b",
   "metadata": {},
   "source": [
    "### TransR"
   ]
  },
  {
   "cell_type": "code",
   "execution_count": null,
   "id": "40e65d68",
   "metadata": {},
   "outputs": [],
   "source": [
    "DGLBACKEND=pytorch dglke_train --dataset iBKH --data_path ./dataset --data_files ad_whole_train.tsv --format raw_udd_hrt --model_name TransR --batch_size 1024 --neg_sample_size 256 --hidden_dim 200 --gamma 12.0 --lr 0.005 --max_step 10000 --log_interval 100 --batch_size_eval 1000 -adv --regularization_coef 1.00E-07 --num_thread 1 --num_proc 8 --neg_sample_size_eval 1000"
   ]
  },
  {
   "cell_type": "markdown",
   "id": "6c1ae6ff",
   "metadata": {},
   "source": [
    "### DistMult"
   ]
  },
  {
   "cell_type": "code",
   "execution_count": null,
   "id": "fdeaf83c",
   "metadata": {},
   "outputs": [],
   "source": [
    "DGLBACKEND=pytorch dglke_train --dataset iBKH --data_path ./dataset --data_files ad_whole_train.tsv --format raw_udd_hrt --model_name DistMult --batch_size 1024 --neg_sample_size 256 --hidden_dim 400 --gamma 12.0 --lr 0.005 --max_step 10000 --log_interval 100 --batch_size_eval 1000 -adv --regularization_coef 1.00E-07 --num_thread 1 --num_proc 8 --neg_sample_size_eval 1000"
   ]
  },
  {
   "cell_type": "markdown",
   "id": "73fa5086",
   "metadata": {},
   "source": [
    "### ComplEx"
   ]
  },
  {
   "cell_type": "code",
   "execution_count": null,
   "id": "fc06513d",
   "metadata": {},
   "outputs": [],
   "source": [
    "DGLBACKEND=pytorch dglke_train --dataset iBKH --data_path ./dataset --data_files ad_whole_train.tsv --format raw_udd_hrt --model_name ComplEx --batch_size 1024 --neg_sample_size 256 --hidden_dim 200 --gamma 12.0 --lr 0.05 --max_step 10000 --log_interval 100 --batch_size_eval 1000 -adv --regularization_coef 1.00E-07 --num_thread 1 --num_proc 8 --neg_sample_size_eval 1000"
   ]
  }
 ],
 "metadata": {
  "kernelspec": {
   "display_name": "Python 3 (ipykernel)",
   "language": "python",
   "name": "python3"
  },
  "language_info": {
   "codemirror_mode": {
    "name": "ipython",
    "version": 3
   },
   "file_extension": ".py",
   "mimetype": "text/x-python",
   "name": "python",
   "nbconvert_exporter": "python",
   "pygments_lexer": "ipython3",
   "version": "3.9.6"
  }
 },
 "nbformat": 4,
 "nbformat_minor": 5
}
